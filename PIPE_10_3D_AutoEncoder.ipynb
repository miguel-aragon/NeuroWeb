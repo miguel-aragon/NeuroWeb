{
 "cells": [
  {
   "cell_type": "markdown",
   "metadata": {},
   "source": [
    "## Simple 3D autoencoder for the neuron - cosmic web project. "
   ]
  },
  {
   "cell_type": "code",
   "execution_count": 1,
   "metadata": {},
   "outputs": [
    {
     "name": "stderr",
     "output_type": "stream",
     "text": [
      "Using TensorFlow backend.\n"
     ]
    }
   ],
   "source": [
    "import numpy as np\n",
    "import pickle\n",
    "import matplotlib.pyplot as plt\n",
    "\n",
    "import tensorflow as tf\n",
    "\n",
    "from keras.utils import np_utils\n",
    "from keras.models import Model\n",
    "from keras.layers import *\n",
    "from keras.optimizers import Adam, SGD, Adadelta\n",
    "from keras.layers import Conv3D, MaxPooling3D, Conv3DTranspose, UpSampling3D\n",
    "from keras.layers import Input, BatchNormalization, Flatten, Dense, Dropout, Activation\n",
    "from keras import optimizers as opt\n",
    "from keras.callbacks import ModelCheckpoint\n",
    "from keras.metrics import mean_squared_error, mean_absolute_error\n",
    "from keras import backend as K"
   ]
  },
  {
   "cell_type": "code",
   "execution_count": 2,
   "metadata": {},
   "outputs": [],
   "source": [
    "K.set_image_data_format('channels_last')  # TF dimension ordering in this code\n",
    "np.random.seed(1234567)"
   ]
  },
  {
   "cell_type": "code",
   "execution_count": 3,
   "metadata": {},
   "outputs": [],
   "source": [
    "#--- Limit ammount of memory used by tensorflow\n",
    "config = tf.ConfigProto()\n",
    "config.gpu_options.allow_growth=True\n",
    "sess = tf.Session(config=config)\n",
    "K.set_session(sess)"
   ]
  },
  {
   "cell_type": "code",
   "execution_count": 4,
   "metadata": {},
   "outputs": [],
   "source": [
    "#import sys\n",
    "#sys.path.insert(0, '/home/miguel/.local/python_utils/')\n",
    "#import Imaging.utils_imaging as utils_imaging\n",
    "#import utils_idl as idl\n",
    "#from utils_various import info as info\n",
    "#from Imaging.image_grids import show_image_row as show_image_row"
   ]
  },
  {
   "cell_type": "markdown",
   "metadata": {},
   "source": [
    "***"
   ]
  },
  {
   "cell_type": "code",
   "execution_count": 5,
   "metadata": {},
   "outputs": [],
   "source": [
    "#========================================================\n",
    "#  Simple routine to show a row of n images\n",
    "#  _imas is a list of images\n",
    "#========================================================\n",
    "def show_image_row(_imas, _plot_size=None):\n",
    "\n",
    "    if (_plot_size != None):\n",
    "        plt.rcParams['figure.figsize'] = [_plot_size[0], _plot_size[1]]\n",
    "\n",
    "    ncols = len(_imas)\n",
    "    fig, axes = plt.subplots(nrows=1, ncols=ncols)\n",
    "    ax = axes.ravel()\n",
    "\n",
    "    for i in range(ncols):\n",
    "        ax[i].imshow(_imas[i], cmap='gray')\n",
    "        ax[i].axis('off')\n",
    "        \n",
    "    plt.tight_layout()\n",
    "    plt.show()\n",
    "\n"
   ]
  },
  {
   "cell_type": "code",
   "execution_count": 6,
   "metadata": {},
   "outputs": [],
   "source": [
    "#---------------------------------------------------------\n",
    "#   Read cube of chars\n",
    "#---------------------------------------------------------\n",
    "def read_bvolume(filename):\n",
    "    import struct\n",
    "    import array as arr\n",
    "    \n",
    "    F = open(filename,'rb')\n",
    "    \n",
    "    #--- Read header\n",
    "    head = F.read(256)\n",
    "    (sizeX,) = struct.unpack('i',head[12:16])\n",
    "    (sizeY,) = struct.unpack('i',head[16:20])\n",
    "    (sizeZ,) = struct.unpack('i',head[20:24])    \n",
    "    print('>>> Reading volume of size:', sizeX,sizeY,sizeZ)\n",
    "    \n",
    "    den = arr.array('b')\n",
    "    den.fromfile(F,sizeX*sizeY*sizeZ)\n",
    "    F.close()    \n",
    "    den = np.array(den).reshape((sizeX,sizeY,sizeZ)).astype(np.uint8)\n",
    "    \n",
    "    return den"
   ]
  },
  {
   "cell_type": "code",
   "execution_count": 7,
   "metadata": {},
   "outputs": [],
   "source": [
    "#---------------------------------------------------------\n",
    "#   Project a cuve along a given axis\n",
    "#---------------------------------------------------------\n",
    "def project_volu(vol, lim1, lim2, ax):\n",
    "    shp = vol.shape\n",
    "    out = np.zeros(shape=(shp[0], shp[1]))\n",
    "    \n",
    "    for i in range(lim1,lim2):\n",
    "        if (ax == 0):\n",
    "            out = out + vol[i,:,:]\n",
    "        if (ax == 1):\n",
    "            out = out + vol[:,i,:]\n",
    "        if (ax == 2):\n",
    "            out = out + vol[:,:,i]            \n",
    "    return out"
   ]
  },
  {
   "cell_type": "code",
   "execution_count": 8,
   "metadata": {},
   "outputs": [],
   "source": [
    "#---------------------------------------------------------\n",
    "#  Un-pythonic cube rotation\n",
    "#---------------------------------------------------------\n",
    "def rotate_cube(vol, ax, new=False):\n",
    "    shp = vol.shape\n",
    "\n",
    "    if (ax == 0):\n",
    "        for i in range(shp[0]):\n",
    "            vol[i,:,:] = np.rot90(vol[i,:,:])\n",
    "    if (ax == 1):\n",
    "        for i in range(shp[1]):\n",
    "            vol[:,i,:] = np.rot90(vol[:,i,:])\n",
    "    if (ax == 2):\n",
    "        for i in range(shp[2]):\n",
    "            vol[:,:,i] = np.rot90(vol[:,:,i])\n",
    "    return vol"
   ]
  },
  {
   "cell_type": "code",
   "execution_count": 9,
   "metadata": {},
   "outputs": [],
   "source": [
    "#---------------------------------------------------------\n",
    "#\n",
    "#---------------------------------------------------------\n",
    "def save_history(history, filename):\n",
    "    all_array = []\n",
    "    all_array.append(history.history)\n",
    "    #--- Write to disk, close file out of paranoia\n",
    "    f = open(filename, 'wb')\n",
    "    pickle.dump(all_array, f)\n",
    "    f.close()"
   ]
  },
  {
   "cell_type": "code",
   "execution_count": 10,
   "metadata": {},
   "outputs": [],
   "source": [
    "#---------------------------------------------------------\n",
    "#\n",
    "#---------------------------------------------------------\n",
    "def load_dataset_all(_FILE_DEN, _SUBGRID):\n",
    "\n",
    "    #--- Read and rescale density field\n",
    "    den = read_bvolume(_FILE_DEN).astype('float32')\n",
    "    #den = den / np.mean(den)\n",
    "    den = den - np.min(den)\n",
    "    den = den / np.max(den)\n",
    "    \n",
    "    #--- Number of bins\n",
    "    n_bins = den.shape[0] // _SUBGRID\n",
    "    \n",
    "    n_rotations = 4   # Simple data augmentation, rotate cube along axis    \n",
    "    X_all = np.zeros(shape=((n_bins**3)*n_rotations, SUBGRID,SUBGRID,SUBGRID,1))\n",
    "    \n",
    "    cont = 0\n",
    "    for i in range(n_bins):\n",
    "        for j in range(n_bins):\n",
    "            for k in range(n_bins):\n",
    "                \n",
    "                sub_den = den[i*SUBGRID:(i+1)*SUBGRID, j*SUBGRID:(j+1)*SUBGRID, k*SUBGRID:(k+1)*SUBGRID]\n",
    "                X_all[cont,:,:,:,0] = sub_den\n",
    "                cont = cont+1\n",
    "\n",
    "                sub_den = den[i*SUBGRID:(i+1)*SUBGRID, j*SUBGRID:(j+1)*SUBGRID, k*SUBGRID:(k+1)*SUBGRID]\n",
    "                sub_den = rotate_cube(sub_den,2)\n",
    "                X_all[cont,:,:,:,0] = sub_den\n",
    "                cont = cont+1\n",
    "\n",
    "                sub_den = den[i*SUBGRID:(i+1)*SUBGRID, j*SUBGRID:(j+1)*SUBGRID, k*SUBGRID:(k+1)*SUBGRID]\n",
    "                sub_den = rotate_cube(sub_den,1)\n",
    "                X_all[cont,:,:,:,0] = sub_den\n",
    "                cont = cont+1\n",
    "\n",
    "                sub_den = den[i*SUBGRID:(i+1)*SUBGRID, j*SUBGRID:(j+1)*SUBGRID, k*SUBGRID:(k+1)*SUBGRID]\n",
    "                sub_den = rotate_cube(sub_den,0)\n",
    "                X_all[cont,:,:,:,0] = sub_den\n",
    "                cont = cont+1\n",
    "                \n",
    "        print('>>> Loading subcube ', i,j,k)\n",
    "    \n",
    "    return X_all\n"
   ]
  },
  {
   "cell_type": "code",
   "execution_count": 11,
   "metadata": {},
   "outputs": [],
   "source": [
    "#---------------------------------------------------------\n",
    "# Autoencoder, to change its depth add/remove layers in a symmetric way.\n",
    "#---------------------------------------------------------\n",
    "def get_net(input_shape, kernel):\n",
    "    inputs = Input(shape=input_shape, name=\"input_1\")\n",
    "    x = inputs\n",
    "\n",
    "    strides_1 = (1,1,1)\n",
    "    strides_2 = (2,2,2)\n",
    "    \n",
    "    encode1a = Conv3D(filters=64, kernel_size=kernel, activation='relu', padding='same', name='encode1a', strides=strides_1)(x)\n",
    "    pool1 = MaxPooling3D(pool_size=(2, 2, 2), strides=strides_2, padding='same', name='pool1')(encode1a)\n",
    "\n",
    "    encode2a = Conv3D(filters=128, kernel_size=kernel, activation='relu', padding='same', name='encode2a', strides=strides_1)(pool1)\n",
    "    pool2 = MaxPooling3D(pool_size=(2, 2, 2), strides=strides_2, padding='same', name='pool2')(encode2a)\n",
    "\n",
    "    encode3a = Conv3D(filters=256, kernel_size=kernel, activation='relu', padding='same', name='encode3a', strides=strides_1)(pool2)\n",
    "    pool3 = MaxPooling3D(pool_size=(2, 2, 2), strides=strides_2, padding='same', name='pool3')(encode3a)\n",
    "    \n",
    "    #--------------------------\n",
    "\n",
    "    #bottom_a = Conv3D(filters=512, kernel_size=kernel, activation='relu', padding='same')(pool3)\n",
    "    #bottom_b = Conv3D(filters=512, kernel_size=kernel, activation='relu', padding='same')(bottom_a)\n",
    "\n",
    "    #--------------------------\n",
    "    \n",
    "    up3   = Conv3DTranspose(filters=256, kernel_size=(2,2,2), strides=strides_2, padding='same')(pool3)\n",
    "    decode3a = Conv3D(filters=256, kernel_size=kernel, activation='relu', padding='same', name='decode3a', strides=strides_1)(up3)    \n",
    "    \n",
    "    up2   = Conv3DTranspose(filters=128, kernel_size=(2,2,2), strides=strides_2, padding='same')(decode3a)\n",
    "    decode2a = Conv3D(filters=128, kernel_size=kernel, activation='relu', padding='same', name='decode2a', strides=strides_1)(up2)\n",
    "\n",
    "    up1   = Conv3DTranspose(filters=64, kernel_size=(2,2,2), strides=strides_2, padding='same')(decode2a)\n",
    "    decode1a = Conv3D(filters=64, kernel_size=kernel, activation='relu', padding='same', name='decode1a', strides=strides_1)(up1)\n",
    "    \n",
    "    \n",
    "    flatten = Convolution3D(filters=1, kernel_size=(1, 1, 1), activation='sigmoid')(decode1a)\n",
    "\n",
    "    model = Model(inputs=inputs, outputs=flatten)\n",
    "    \n",
    "    model.compile(optimizer=Adadelta(), loss='mse', metrics=['mse'])\n",
    "\n",
    "    return model\n"
   ]
  },
  {
   "cell_type": "markdown",
   "metadata": {},
   "source": [
    "***"
   ]
  },
  {
   "cell_type": "code",
   "execution_count": 12,
   "metadata": {
    "scrolled": true
   },
   "outputs": [
    {
     "name": "stdout",
     "output_type": "stream",
     "text": [
      ">>> Reading volume of size: 256 256 256\n",
      ">>> Loading subcube  0 3 3\n",
      ">>> Loading subcube  1 3 3\n",
      ">>> Loading subcube  2 3 3\n",
      ">>> Loading subcube  3 3 3\n"
     ]
    }
   ],
   "source": [
    "#--- Grid size of input density field\n",
    "GRID    = 256\n",
    "\n",
    "#--- Because of memory constraints we will process the cube into subcubes this size\n",
    "SUBGRID = 64\n",
    "\n",
    "#--- Density field\n",
    "FILE_DENSITY = 'Data/Bolshoi_sub-1.bvol'\n",
    "\n",
    "#--- Load datafile, break into sub-cubes and rotate for data aumentation\n",
    "X_train = load_dataset_all(FILE_DENSITY, SUBGRID)"
   ]
  },
  {
   "cell_type": "code",
   "execution_count": 13,
   "metadata": {},
   "outputs": [
    {
     "name": "stdout",
     "output_type": "stream",
     "text": [
      "_________________________________________________________________\n",
      "Layer (type)                 Output Shape              Param #   \n",
      "=================================================================\n",
      "input_1 (InputLayer)         (None, None, None, None,  0         \n",
      "_________________________________________________________________\n",
      "encode1a (Conv3D)            (None, None, None, None,  1792      \n",
      "_________________________________________________________________\n",
      "pool1 (MaxPooling3D)         (None, None, None, None,  0         \n",
      "_________________________________________________________________\n",
      "encode2a (Conv3D)            (None, None, None, None,  221312    \n",
      "_________________________________________________________________\n",
      "pool2 (MaxPooling3D)         (None, None, None, None,  0         \n",
      "_________________________________________________________________\n",
      "encode3a (Conv3D)            (None, None, None, None,  884992    \n",
      "_________________________________________________________________\n",
      "pool3 (MaxPooling3D)         (None, None, None, None,  0         \n",
      "_________________________________________________________________\n",
      "conv3d_transpose_1 (Conv3DTr (None, None, None, None,  524544    \n",
      "_________________________________________________________________\n",
      "decode3a (Conv3D)            (None, None, None, None,  1769728   \n",
      "_________________________________________________________________\n",
      "conv3d_transpose_2 (Conv3DTr (None, None, None, None,  262272    \n",
      "_________________________________________________________________\n",
      "decode2a (Conv3D)            (None, None, None, None,  442496    \n",
      "_________________________________________________________________\n",
      "conv3d_transpose_3 (Conv3DTr (None, None, None, None,  65600     \n",
      "_________________________________________________________________\n",
      "decode1a (Conv3D)            (None, None, None, None,  110656    \n",
      "_________________________________________________________________\n",
      "conv3d_1 (Conv3D)            (None, None, None, None,  65        \n",
      "=================================================================\n",
      "Total params: 4,283,457\n",
      "Trainable params: 4,283,457\n",
      "Non-trainable params: 0\n",
      "_________________________________________________________________\n"
     ]
    }
   ],
   "source": [
    "#--- Create model, use None as input size so we can later predict for any input cube\n",
    "model = get_net((None,None,None,1), (3,3,3))\n",
    "model.summary()"
   ]
  },
  {
   "cell_type": "markdown",
   "metadata": {},
   "source": [
    "## Model training\n",
    "\n",
    "### Interestingly training with a batch size of 1 gives better results than larger batch (I tried 4 and 8)\n",
    "\n",
    "### Be aware of the high GPU memory requirements of this network."
   ]
  },
  {
   "cell_type": "code",
   "execution_count": 14,
   "metadata": {},
   "outputs": [
    {
     "name": "stdout",
     "output_type": "stream",
     "text": [
      "Train on 204 samples, validate on 52 samples\n",
      "Epoch 1/20\n",
      "204/204 [==============================] - 52s 254ms/step - loss: 0.0143 - mean_squared_error: 0.0143 - val_loss: 0.0110 - val_mean_squared_error: 0.0110\n",
      "Epoch 2/20\n",
      "204/204 [==============================] - 49s 242ms/step - loss: 0.0112 - mean_squared_error: 0.0112 - val_loss: 0.0108 - val_mean_squared_error: 0.0108\n",
      "Epoch 3/20\n",
      "204/204 [==============================] - 50s 243ms/step - loss: 0.0111 - mean_squared_error: 0.0111 - val_loss: 0.0107 - val_mean_squared_error: 0.0107\n",
      "Epoch 4/20\n",
      "204/204 [==============================] - 50s 243ms/step - loss: 0.0110 - mean_squared_error: 0.0110 - val_loss: 0.0106 - val_mean_squared_error: 0.0106\n",
      "Epoch 5/20\n",
      "204/204 [==============================] - 50s 246ms/step - loss: 0.0108 - mean_squared_error: 0.0108 - val_loss: 0.0104 - val_mean_squared_error: 0.0104\n",
      "Epoch 6/20\n",
      "204/204 [==============================] - 51s 249ms/step - loss: 0.0096 - mean_squared_error: 0.0096 - val_loss: 0.0083 - val_mean_squared_error: 0.0083\n",
      "Epoch 7/20\n",
      "204/204 [==============================] - 51s 249ms/step - loss: 0.0082 - mean_squared_error: 0.0082 - val_loss: 0.0079 - val_mean_squared_error: 0.0079\n",
      "Epoch 8/20\n",
      "204/204 [==============================] - 50s 243ms/step - loss: 0.0075 - mean_squared_error: 0.0075 - val_loss: 0.0069 - val_mean_squared_error: 0.0069\n",
      "Epoch 9/20\n",
      "204/204 [==============================] - 49s 240ms/step - loss: 0.0070 - mean_squared_error: 0.0070 - val_loss: 0.0064 - val_mean_squared_error: 0.0064\n",
      "Epoch 10/20\n",
      "204/204 [==============================] - 49s 240ms/step - loss: 0.0066 - mean_squared_error: 0.0066 - val_loss: 0.0063 - val_mean_squared_error: 0.0063\n",
      "Epoch 11/20\n",
      "204/204 [==============================] - 49s 240ms/step - loss: 0.0063 - mean_squared_error: 0.0063 - val_loss: 0.0061 - val_mean_squared_error: 0.0061\n",
      "Epoch 12/20\n",
      "204/204 [==============================] - 49s 240ms/step - loss: 0.0062 - mean_squared_error: 0.0062 - val_loss: 0.0061 - val_mean_squared_error: 0.0061\n",
      "Epoch 13/20\n",
      "204/204 [==============================] - 49s 240ms/step - loss: 0.0059 - mean_squared_error: 0.0059 - val_loss: 0.0054 - val_mean_squared_error: 0.0054\n",
      "Epoch 14/20\n",
      "204/204 [==============================] - 49s 239ms/step - loss: 0.0058 - mean_squared_error: 0.0058 - val_loss: 0.0064 - val_mean_squared_error: 0.0064\n",
      "Epoch 15/20\n",
      "204/204 [==============================] - 49s 240ms/step - loss: 0.0055 - mean_squared_error: 0.0055 - val_loss: 0.0050 - val_mean_squared_error: 0.0050\n",
      "Epoch 16/20\n",
      "204/204 [==============================] - 51s 249ms/step - loss: 0.0053 - mean_squared_error: 0.0053 - val_loss: 0.0051 - val_mean_squared_error: 0.0051\n",
      "Epoch 17/20\n",
      "204/204 [==============================] - 51s 250ms/step - loss: 0.0050 - mean_squared_error: 0.0050 - val_loss: 0.0046 - val_mean_squared_error: 0.0046\n",
      "Epoch 18/20\n",
      "204/204 [==============================] - 51s 251ms/step - loss: 0.0048 - mean_squared_error: 0.0048 - val_loss: 0.0044 - val_mean_squared_error: 0.0044\n",
      "Epoch 19/20\n",
      "204/204 [==============================] - 51s 251ms/step - loss: 0.0047 - mean_squared_error: 0.0047 - val_loss: 0.0044 - val_mean_squared_error: 0.0044\n",
      "Epoch 20/20\n",
      "204/204 [==============================] - 51s 251ms/step - loss: 0.0046 - mean_squared_error: 0.0046 - val_loss: 0.0045 - val_mean_squared_error: 0.0045\n"
     ]
    }
   ],
   "source": [
    "model_checkpoint = ModelCheckpoint('model_1.h5', monitor='val_loss', save_best_only=True)\n",
    "\n",
    "history = model.fit(X_train, X_train, batch_size=1, epochs=20, verbose=1, shuffle=True,validation_split=0.2, callbacks=[model_checkpoint])\n",
    "\n",
    "save_history(history, 'mode_1.history.pkl')\n"
   ]
  },
  {
   "cell_type": "markdown",
   "metadata": {},
   "source": [
    "### The plot below shows the loss as a function of the training epochs. After 20 epochs the loss begins to flatten. "
   ]
  },
  {
   "cell_type": "code",
   "execution_count": 16,
   "metadata": {},
   "outputs": [
    {
     "data": {
      "image/png": "[encoded data removed]",
      "text/plain": [
       "<Figure size 432x288 with 1 Axes>"
      ]
     },
     "metadata": {
      "needs_background": "light"
     },
     "output_type": "display_data"
    }
   ],
   "source": [
    "plt.plot(history.history['val_loss'])\n",
    "plt.show()"
   ]
  },
  {
   "cell_type": "markdown",
   "metadata": {},
   "source": [
    "## Predict some images. \n",
    "\n",
    "### We are reusing trainig images so this is in principle cheating but for our purpose it is ok since we only want to know if the network is able to reproduce the input meaning that it can form an internal representation of the features in the data"
   ]
  },
  {
   "cell_type": "code",
   "execution_count": 17,
   "metadata": {},
   "outputs": [],
   "source": [
    "\n",
    "\n",
    "#model.load_weights('model_1.h5')\n",
    "\n",
    "Y_pred  = model.predict(X_train[0:16,:,:,:,:], batch_size=1, verbose = 0)\n"
   ]
  },
  {
   "cell_type": "code",
   "execution_count": 20,
   "metadata": {},
   "outputs": [
    {
     "data": {
      "image/png": "[encoded data removed]",
      "text/plain": [
       "<Figure size 432x288 with 2 Axes>"
      ]
     },
     "metadata": {
      "needs_background": "light"
     },
     "output_type": "display_data"
    },
    {
     "data": {
      "image/png": "[encoded data removed]",
      "text/plain": [
       "<Figure size 432x288 with 2 Axes>"
      ]
     },
     "metadata": {
      "needs_background": "light"
     },
     "output_type": "display_data"
    },
    {
     "data": {
      "image/png": "[encoded data removed]",
      "text/plain": [
       "<Figure size 432x288 with 2 Axes>"
      ]
     },
     "metadata": {
      "needs_background": "light"
     },
     "output_type": "display_data"
    },
    {
     "data": {
      "image/png": "[encoded data removed]",
      "text/plain": [
       "<Figure size 432x288 with 2 Axes>"
      ]
     },
     "metadata": {
      "needs_background": "light"
     },
     "output_type": "display_data"
    }
   ],
   "source": [
    "#--- Comparison between the original and predicted cubes. Show a thin slice across the z-axis\n",
    "slice_k = 32\n",
    "for i in range(4):\n",
    "    show_image_row([X_train[i,:,:,slice_k,0], Y_pred[i,:,:,slice_k,0]])"
   ]
  },
  {
   "cell_type": "code",
   "execution_count": null,
   "metadata": {},
   "outputs": [],
   "source": []
  }
 ],
 "metadata": {
  "kernelspec": {
   "display_name": "Python [conda env:keras_tf]",
   "language": "python",
   "name": "conda-env-keras_tf-py"
  },
  "language_info": {
   "codemirror_mode": {
    "name": "ipython",
    "version": 3
   },
   "file_extension": ".py",
   "mimetype": "text/x-python",
   "name": "python",
   "nbconvert_exporter": "python",
   "pygments_lexer": "ipython3",
   "version": "3.5.6"
  }
 },
 "nbformat": 4,
 "nbformat_minor": 2
}
